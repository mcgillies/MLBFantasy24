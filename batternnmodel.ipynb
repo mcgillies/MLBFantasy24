{
 "cells": [
  {
   "cell_type": "code",
   "execution_count": 132,
   "id": "95e371a6-460d-48f6-9491-f6babc7154d8",
   "metadata": {},
   "outputs": [],
   "source": [
    "import pandas as pd\n",
    "import tensorflow\n",
    "from tensorflow.keras import Sequential\n",
    "from tensorflow.keras.metrics import MeanSquaredError, RootMeanSquaredError\n",
    "from tensorflow.keras.layers import Dense, Dropout\n",
    "from tensorflow.keras.callbacks import EarlyStopping\n",
    "import keras_tuner as kt\n",
    "from tensorflow import keras\n",
    "import numpy as np\n",
    "from sklearn.preprocessing import StandardScaler\n",
    "from sklearn.model_selection import (\n",
    "    GridSearchCV,\n",
    "    RandomizedSearchCV,\n",
    "    cross_val_score,\n",
    "    cross_validate,\n",
    "    train_test_split)\n",
    "\n",
    "from sklearn.compose import ColumnTransformer, make_column_transformer\n",
    "from sklearn.metrics import make_scorer, mean_squared_error\n",
    "from sklearn.decomposition import PCA"
   ]
  },
  {
   "cell_type": "code",
   "execution_count": 133,
   "id": "151c4d89-66c3-43c1-82e5-78145dc00b64",
   "metadata": {},
   "outputs": [
    {
     "data": {
      "text/html": [
       "<div>\n",
       "<style scoped>\n",
       "    .dataframe tbody tr th:only-of-type {\n",
       "        vertical-align: middle;\n",
       "    }\n",
       "\n",
       "    .dataframe tbody tr th {\n",
       "        vertical-align: top;\n",
       "    }\n",
       "\n",
       "    .dataframe thead th {\n",
       "        text-align: right;\n",
       "    }\n",
       "</style>\n",
       "<table border=\"1\" class=\"dataframe\">\n",
       "  <thead>\n",
       "    <tr style=\"text-align: right;\">\n",
       "      <th></th>\n",
       "      <th>Name</th>\n",
       "      <th>Fpoints_G</th>\n",
       "      <th>year</th>\n",
       "      <th>xwoba</th>\n",
       "      <th>xwobacon</th>\n",
       "      <th>xbacon</th>\n",
       "      <th>exit_velocity_avg</th>\n",
       "      <th>launch_angle_avg</th>\n",
       "      <th>barrel_batted_rate</th>\n",
       "      <th>hard_hit_percent</th>\n",
       "      <th>...</th>\n",
       "      <th>edge_percent</th>\n",
       "      <th>whiff_percent</th>\n",
       "      <th>swing_percent</th>\n",
       "      <th>pull_percent</th>\n",
       "      <th>straightaway_percent</th>\n",
       "      <th>opposite_percent</th>\n",
       "      <th>f_strike_percent</th>\n",
       "      <th>flyballs_percent</th>\n",
       "      <th>linedrives_percent</th>\n",
       "      <th>sprint_speed</th>\n",
       "    </tr>\n",
       "  </thead>\n",
       "  <tbody>\n",
       "    <tr>\n",
       "      <th>0</th>\n",
       "      <td>Ortiz, David</td>\n",
       "      <td>3.543046</td>\n",
       "      <td>2016</td>\n",
       "      <td>0.420</td>\n",
       "      <td>0.474</td>\n",
       "      <td>0.364</td>\n",
       "      <td>93.0</td>\n",
       "      <td>15.7</td>\n",
       "      <td>13.1</td>\n",
       "      <td>49.1</td>\n",
       "      <td>...</td>\n",
       "      <td>41.9</td>\n",
       "      <td>23.2</td>\n",
       "      <td>44.7</td>\n",
       "      <td>41.9</td>\n",
       "      <td>36.4</td>\n",
       "      <td>21.7</td>\n",
       "      <td>52.1</td>\n",
       "      <td>25.6</td>\n",
       "      <td>28.7</td>\n",
       "      <td>23.1</td>\n",
       "    </tr>\n",
       "    <tr>\n",
       "      <th>1</th>\n",
       "      <td>Rodriguez, Alex</td>\n",
       "      <td>1.215385</td>\n",
       "      <td>2016</td>\n",
       "      <td>0.368</td>\n",
       "      <td>0.436</td>\n",
       "      <td>0.338</td>\n",
       "      <td>91.3</td>\n",
       "      <td>12.2</td>\n",
       "      <td>10.9</td>\n",
       "      <td>43.9</td>\n",
       "      <td>...</td>\n",
       "      <td>42.2</td>\n",
       "      <td>32.0</td>\n",
       "      <td>43.9</td>\n",
       "      <td>38.4</td>\n",
       "      <td>43.9</td>\n",
       "      <td>16.9</td>\n",
       "      <td>60.3</td>\n",
       "      <td>24.9</td>\n",
       "      <td>24.9</td>\n",
       "      <td>23.9</td>\n",
       "    </tr>\n",
       "    <tr>\n",
       "      <th>2</th>\n",
       "      <td>Beltre, Adrian</td>\n",
       "      <td>3.137255</td>\n",
       "      <td>2016</td>\n",
       "      <td>0.360</td>\n",
       "      <td>0.380</td>\n",
       "      <td>0.333</td>\n",
       "      <td>89.5</td>\n",
       "      <td>12.6</td>\n",
       "      <td>5.5</td>\n",
       "      <td>40.4</td>\n",
       "      <td>...</td>\n",
       "      <td>42.6</td>\n",
       "      <td>16.8</td>\n",
       "      <td>48.1</td>\n",
       "      <td>35.3</td>\n",
       "      <td>41.4</td>\n",
       "      <td>23.3</td>\n",
       "      <td>61.9</td>\n",
       "      <td>18.4</td>\n",
       "      <td>31.6</td>\n",
       "      <td>26.4</td>\n",
       "    </tr>\n",
       "    <tr>\n",
       "      <th>3</th>\n",
       "      <td>Beltran, Carlos</td>\n",
       "      <td>2.543046</td>\n",
       "      <td>2016</td>\n",
       "      <td>0.346</td>\n",
       "      <td>0.381</td>\n",
       "      <td>0.334</td>\n",
       "      <td>90.6</td>\n",
       "      <td>15.6</td>\n",
       "      <td>5.8</td>\n",
       "      <td>41.9</td>\n",
       "      <td>...</td>\n",
       "      <td>43.5</td>\n",
       "      <td>18.1</td>\n",
       "      <td>45.4</td>\n",
       "      <td>40.6</td>\n",
       "      <td>38.3</td>\n",
       "      <td>19.3</td>\n",
       "      <td>57.3</td>\n",
       "      <td>26.6</td>\n",
       "      <td>28.1</td>\n",
       "      <td>25.6</td>\n",
       "    </tr>\n",
       "    <tr>\n",
       "      <th>4</th>\n",
       "      <td>Werth, Jayson</td>\n",
       "      <td>2.160839</td>\n",
       "      <td>2016</td>\n",
       "      <td>0.331</td>\n",
       "      <td>0.384</td>\n",
       "      <td>0.324</td>\n",
       "      <td>90.0</td>\n",
       "      <td>15.3</td>\n",
       "      <td>7.9</td>\n",
       "      <td>40.7</td>\n",
       "      <td>...</td>\n",
       "      <td>42.7</td>\n",
       "      <td>24.2</td>\n",
       "      <td>37.9</td>\n",
       "      <td>33.6</td>\n",
       "      <td>33.6</td>\n",
       "      <td>32.8</td>\n",
       "      <td>57.7</td>\n",
       "      <td>23.3</td>\n",
       "      <td>31.2</td>\n",
       "      <td>26.0</td>\n",
       "    </tr>\n",
       "  </tbody>\n",
       "</table>\n",
       "<p>5 rows × 27 columns</p>\n",
       "</div>"
      ],
      "text/plain": [
       "              Name  Fpoints_G  year  xwoba  xwobacon  xbacon  \\\n",
       "0     Ortiz, David   3.543046  2016  0.420     0.474   0.364   \n",
       "1  Rodriguez, Alex   1.215385  2016  0.368     0.436   0.338   \n",
       "2   Beltre, Adrian   3.137255  2016  0.360     0.380   0.333   \n",
       "3  Beltran, Carlos   2.543046  2016  0.346     0.381   0.334   \n",
       "4    Werth, Jayson   2.160839  2016  0.331     0.384   0.324   \n",
       "\n",
       "   exit_velocity_avg  launch_angle_avg  barrel_batted_rate  hard_hit_percent  \\\n",
       "0               93.0              15.7                13.1              49.1   \n",
       "1               91.3              12.2                10.9              43.9   \n",
       "2               89.5              12.6                 5.5              40.4   \n",
       "3               90.6              15.6                 5.8              41.9   \n",
       "4               90.0              15.3                 7.9              40.7   \n",
       "\n",
       "   ...  edge_percent  whiff_percent  swing_percent  pull_percent  \\\n",
       "0  ...          41.9           23.2           44.7          41.9   \n",
       "1  ...          42.2           32.0           43.9          38.4   \n",
       "2  ...          42.6           16.8           48.1          35.3   \n",
       "3  ...          43.5           18.1           45.4          40.6   \n",
       "4  ...          42.7           24.2           37.9          33.6   \n",
       "\n",
       "   straightaway_percent  opposite_percent  f_strike_percent  flyballs_percent  \\\n",
       "0                  36.4              21.7              52.1              25.6   \n",
       "1                  43.9              16.9              60.3              24.9   \n",
       "2                  41.4              23.3              61.9              18.4   \n",
       "3                  38.3              19.3              57.3              26.6   \n",
       "4                  33.6              32.8              57.7              23.3   \n",
       "\n",
       "   linedrives_percent  sprint_speed  \n",
       "0                28.7          23.1  \n",
       "1                24.9          23.9  \n",
       "2                31.6          26.4  \n",
       "3                28.1          25.6  \n",
       "4                31.2          26.0  \n",
       "\n",
       "[5 rows x 27 columns]"
      ]
     },
     "execution_count": 133,
     "metadata": {},
     "output_type": "execute_result"
    }
   ],
   "source": [
    "data = pd.read_csv(\"data/b_combined.csv\", index_col = 0)\n",
    "data.head()"
   ]
  },
  {
   "cell_type": "code",
   "execution_count": 134,
   "id": "c7c0f846-f118-4661-8d9d-d7fb33c8ab4e",
   "metadata": {},
   "outputs": [
    {
     "data": {
      "text/html": [
       "<div>\n",
       "<style scoped>\n",
       "    .dataframe tbody tr th:only-of-type {\n",
       "        vertical-align: middle;\n",
       "    }\n",
       "\n",
       "    .dataframe tbody tr th {\n",
       "        vertical-align: top;\n",
       "    }\n",
       "\n",
       "    .dataframe thead th {\n",
       "        text-align: right;\n",
       "    }\n",
       "</style>\n",
       "<table border=\"1\" class=\"dataframe\">\n",
       "  <thead>\n",
       "    <tr style=\"text-align: right;\">\n",
       "      <th></th>\n",
       "      <th>Name</th>\n",
       "      <th>year</th>\n",
       "      <th>Fpoints_G</th>\n",
       "      <th>weight_decay_0.1</th>\n",
       "    </tr>\n",
       "  </thead>\n",
       "  <tbody>\n",
       "    <tr>\n",
       "      <th>2621</th>\n",
       "      <td>Carroll, Corbin</td>\n",
       "      <td>2023</td>\n",
       "      <td>2.993548</td>\n",
       "      <td>1.0</td>\n",
       "    </tr>\n",
       "    <tr>\n",
       "      <th>2622</th>\n",
       "      <td>Henderson, Gunnar</td>\n",
       "      <td>2023</td>\n",
       "      <td>2.420000</td>\n",
       "      <td>1.0</td>\n",
       "    </tr>\n",
       "    <tr>\n",
       "      <th>2623</th>\n",
       "      <td>Vaughn, Andrew</td>\n",
       "      <td>2023</td>\n",
       "      <td>1.953947</td>\n",
       "      <td>1.0</td>\n",
       "    </tr>\n",
       "    <tr>\n",
       "      <th>2624</th>\n",
       "      <td>Pasquantino, Vinnie</td>\n",
       "      <td>2023</td>\n",
       "      <td>2.377049</td>\n",
       "      <td>1.0</td>\n",
       "    </tr>\n",
       "    <tr>\n",
       "      <th>2625</th>\n",
       "      <td>Massey, Michael</td>\n",
       "      <td>2023</td>\n",
       "      <td>1.480620</td>\n",
       "      <td>1.0</td>\n",
       "    </tr>\n",
       "  </tbody>\n",
       "</table>\n",
       "</div>"
      ],
      "text/plain": [
       "                     Name  year  Fpoints_G  weight_decay_0.1\n",
       "2621      Carroll, Corbin  2023   2.993548               1.0\n",
       "2622    Henderson, Gunnar  2023   2.420000               1.0\n",
       "2623       Vaughn, Andrew  2023   1.953947               1.0\n",
       "2624  Pasquantino, Vinnie  2023   2.377049               1.0\n",
       "2625      Massey, Michael  2023   1.480620               1.0"
      ]
     },
     "execution_count": 134,
     "metadata": {},
     "output_type": "execute_result"
    }
   ],
   "source": [
    "data['years_ago'] = 2023 - data['year']\n",
    "decay_rate = 0.005\n",
    "data['weight_decay_0.1'] = np.exp(-decay_rate * data['years_ago'])\n",
    "data[['Name', 'year', 'Fpoints_G', 'weight_decay_0.1']].tail()"
   ]
  },
  {
   "cell_type": "code",
   "execution_count": 135,
   "id": "d2d155f1-cd85-403f-92cd-040a06b6836c",
   "metadata": {},
   "outputs": [
    {
     "data": {
      "text/html": [
       "<div>\n",
       "<style scoped>\n",
       "    .dataframe tbody tr th:only-of-type {\n",
       "        vertical-align: middle;\n",
       "    }\n",
       "\n",
       "    .dataframe tbody tr th {\n",
       "        vertical-align: top;\n",
       "    }\n",
       "\n",
       "    .dataframe thead th {\n",
       "        text-align: right;\n",
       "    }\n",
       "</style>\n",
       "<table border=\"1\" class=\"dataframe\">\n",
       "  <thead>\n",
       "    <tr style=\"text-align: right;\">\n",
       "      <th></th>\n",
       "      <th>Name</th>\n",
       "      <th>Fpoints_G</th>\n",
       "      <th>year</th>\n",
       "      <th>xwoba</th>\n",
       "      <th>xwobacon</th>\n",
       "      <th>xbacon</th>\n",
       "      <th>exit_velocity_avg</th>\n",
       "      <th>launch_angle_avg</th>\n",
       "      <th>barrel_batted_rate</th>\n",
       "      <th>hard_hit_percent</th>\n",
       "      <th>...</th>\n",
       "      <th>flyballs_percent</th>\n",
       "      <th>linedrives_percent</th>\n",
       "      <th>sprint_speed</th>\n",
       "      <th>Fpoints_G_2</th>\n",
       "      <th>Fpoints_G_3</th>\n",
       "      <th>Fpoints_G_1</th>\n",
       "      <th>Fpoints_G_4</th>\n",
       "      <th>Fpoints_G_5</th>\n",
       "      <th>Fpoints_G_6</th>\n",
       "      <th>league_avg_Fpoints</th>\n",
       "    </tr>\n",
       "  </thead>\n",
       "  <tbody>\n",
       "    <tr>\n",
       "      <th>0</th>\n",
       "      <td>Abrams, CJ</td>\n",
       "      <td>2.251656</td>\n",
       "      <td>2023</td>\n",
       "      <td>0.266</td>\n",
       "      <td>0.297</td>\n",
       "      <td>0.292</td>\n",
       "      <td>86.5</td>\n",
       "      <td>6.8</td>\n",
       "      <td>2.1</td>\n",
       "      <td>30.7</td>\n",
       "      <td>...</td>\n",
       "      <td>21.0</td>\n",
       "      <td>18.5</td>\n",
       "      <td>29.0</td>\n",
       "      <td>2.251656</td>\n",
       "      <td>2.251656</td>\n",
       "      <td>2.251656</td>\n",
       "      <td>2.251656</td>\n",
       "      <td>2.251656</td>\n",
       "      <td>2.251656</td>\n",
       "      <td>1.769912</td>\n",
       "    </tr>\n",
       "    <tr>\n",
       "      <th>1</th>\n",
       "      <td>Abreu, José</td>\n",
       "      <td>1.921986</td>\n",
       "      <td>2023</td>\n",
       "      <td>0.373</td>\n",
       "      <td>0.410</td>\n",
       "      <td>0.361</td>\n",
       "      <td>92.2</td>\n",
       "      <td>8.0</td>\n",
       "      <td>9.5</td>\n",
       "      <td>51.8</td>\n",
       "      <td>...</td>\n",
       "      <td>24.0</td>\n",
       "      <td>25.1</td>\n",
       "      <td>26.1</td>\n",
       "      <td>2.171184</td>\n",
       "      <td>2.311491</td>\n",
       "      <td>1.921986</td>\n",
       "      <td>2.608618</td>\n",
       "      <td>2.606392</td>\n",
       "      <td>2.578243</td>\n",
       "      <td>1.769912</td>\n",
       "    </tr>\n",
       "    <tr>\n",
       "      <th>2</th>\n",
       "      <td>Acuña Jr., Ronald</td>\n",
       "      <td>4.446541</td>\n",
       "      <td>2023</td>\n",
       "      <td>0.365</td>\n",
       "      <td>0.444</td>\n",
       "      <td>0.371</td>\n",
       "      <td>91.2</td>\n",
       "      <td>10.8</td>\n",
       "      <td>12.8</td>\n",
       "      <td>49.7</td>\n",
       "      <td>...</td>\n",
       "      <td>24.7</td>\n",
       "      <td>21.2</td>\n",
       "      <td>28.5</td>\n",
       "      <td>3.357724</td>\n",
       "      <td>3.384824</td>\n",
       "      <td>4.446541</td>\n",
       "      <td>3.375575</td>\n",
       "      <td>3.311998</td>\n",
       "      <td>3.311998</td>\n",
       "      <td>1.769912</td>\n",
       "    </tr>\n",
       "    <tr>\n",
       "      <th>3</th>\n",
       "      <td>Adames, Willy</td>\n",
       "      <td>1.939597</td>\n",
       "      <td>2023</td>\n",
       "      <td>0.323</td>\n",
       "      <td>0.414</td>\n",
       "      <td>0.335</td>\n",
       "      <td>88.9</td>\n",
       "      <td>18.9</td>\n",
       "      <td>13.0</td>\n",
       "      <td>43.6</td>\n",
       "      <td>...</td>\n",
       "      <td>33.4</td>\n",
       "      <td>22.7</td>\n",
       "      <td>27.8</td>\n",
       "      <td>2.156849</td>\n",
       "      <td>2.140280</td>\n",
       "      <td>1.939597</td>\n",
       "      <td>2.017247</td>\n",
       "      <td>1.929587</td>\n",
       "      <td>1.929587</td>\n",
       "      <td>1.769912</td>\n",
       "    </tr>\n",
       "    <tr>\n",
       "      <th>4</th>\n",
       "      <td>Adams, Riley</td>\n",
       "      <td>1.431818</td>\n",
       "      <td>2023</td>\n",
       "      <td>0.274</td>\n",
       "      <td>0.349</td>\n",
       "      <td>0.292</td>\n",
       "      <td>90.2</td>\n",
       "      <td>13.5</td>\n",
       "      <td>9.4</td>\n",
       "      <td>45.8</td>\n",
       "      <td>...</td>\n",
       "      <td>28.1</td>\n",
       "      <td>18.8</td>\n",
       "      <td>26.7</td>\n",
       "      <td>1.070076</td>\n",
       "      <td>1.070076</td>\n",
       "      <td>1.431818</td>\n",
       "      <td>1.070076</td>\n",
       "      <td>1.070076</td>\n",
       "      <td>1.070076</td>\n",
       "      <td>1.769912</td>\n",
       "    </tr>\n",
       "  </tbody>\n",
       "</table>\n",
       "<p>5 rows × 34 columns</p>\n",
       "</div>"
      ],
      "text/plain": [
       "                Name  Fpoints_G  year  xwoba  xwobacon  xbacon  \\\n",
       "0         Abrams, CJ   2.251656  2023  0.266     0.297   0.292   \n",
       "1        Abreu, José   1.921986  2023  0.373     0.410   0.361   \n",
       "2  Acuña Jr., Ronald   4.446541  2023  0.365     0.444   0.371   \n",
       "3      Adames, Willy   1.939597  2023  0.323     0.414   0.335   \n",
       "4       Adams, Riley   1.431818  2023  0.274     0.349   0.292   \n",
       "\n",
       "   exit_velocity_avg  launch_angle_avg  barrel_batted_rate  hard_hit_percent  \\\n",
       "0               86.5               6.8                 2.1              30.7   \n",
       "1               92.2               8.0                 9.5              51.8   \n",
       "2               91.2              10.8                12.8              49.7   \n",
       "3               88.9              18.9                13.0              43.6   \n",
       "4               90.2              13.5                 9.4              45.8   \n",
       "\n",
       "   ...  flyballs_percent  linedrives_percent  sprint_speed  Fpoints_G_2  \\\n",
       "0  ...              21.0                18.5          29.0     2.251656   \n",
       "1  ...              24.0                25.1          26.1     2.171184   \n",
       "2  ...              24.7                21.2          28.5     3.357724   \n",
       "3  ...              33.4                22.7          27.8     2.156849   \n",
       "4  ...              28.1                18.8          26.7     1.070076   \n",
       "\n",
       "   Fpoints_G_3  Fpoints_G_1  Fpoints_G_4  Fpoints_G_5  Fpoints_G_6  \\\n",
       "0     2.251656     2.251656     2.251656     2.251656     2.251656   \n",
       "1     2.311491     1.921986     2.608618     2.606392     2.578243   \n",
       "2     3.384824     4.446541     3.375575     3.311998     3.311998   \n",
       "3     2.140280     1.939597     2.017247     1.929587     1.929587   \n",
       "4     1.070076     1.431818     1.070076     1.070076     1.070076   \n",
       "\n",
       "   league_avg_Fpoints  \n",
       "0            1.769912  \n",
       "1            1.769912  \n",
       "2            1.769912  \n",
       "3            1.769912  \n",
       "4            1.769912  \n",
       "\n",
       "[5 rows x 34 columns]"
      ]
     },
     "execution_count": 135,
     "metadata": {},
     "output_type": "execute_result"
    }
   ],
   "source": [
    "data_sorted = data.sort_values(['Name', 'year'])\n",
    "data_sorted['Fpoints_G_2'] = data_sorted.groupby('Name')['Fpoints_G'].transform(lambda x: x.rolling(window=2, min_periods = 1).mean())\n",
    "data_sorted['Fpoints_G_3'] = data_sorted.groupby('Name')['Fpoints_G'].transform(lambda x: x.rolling(window=3, min_periods = 1).mean())\n",
    "data_sorted['Fpoints_G_1'] = data_sorted.groupby('Name')['Fpoints_G'].transform(lambda x: x.rolling(window=1, min_periods = 1).mean())\n",
    "data_sorted['Fpoints_G_4'] = data_sorted.groupby('Name')['Fpoints_G'].transform(lambda x: x.rolling(window=4, min_periods = 1).mean())\n",
    "data_sorted['Fpoints_G_5'] = data_sorted.groupby('Name')['Fpoints_G'].transform(lambda x: x.rolling(window=5, min_periods = 1).mean())\n",
    "data_sorted['Fpoints_G_6'] = data_sorted.groupby('Name')['Fpoints_G'].transform(lambda x: x.rolling(window=6, min_periods = 1).mean())\n",
    "league_trends = data.groupby('year')['Fpoints_G'].mean().rename('league_avg_Fpoints')\n",
    "full_data = data_sorted.merge(league_trends, on='year')\n",
    "# feature_columns = [col for col in full_data.columns if col not in ['Name', 'year', 'Unnamed: 0', 'Fpoints_G', 'weight_decay_0.1', 'years_ago']]\n",
    "# for column in feature_columns:\n",
    "#     full_data[f'weighted_{column}'] = full_data[column] * full_data['weight_decay_0.1']\n",
    "full_data = full_data.drop(columns = ['years_ago', 'weight_decay_0.1'])\n",
    "\n",
    "full_data.head()\n"
   ]
  },
  {
   "cell_type": "code",
   "execution_count": 136,
   "id": "3173e97f-c460-41ad-855a-080b7826be6d",
   "metadata": {},
   "outputs": [
    {
     "data": {
      "text/plain": [
       "Name                     0\n",
       "Fpoints_G                0\n",
       "year                     0\n",
       "xwoba                    0\n",
       "xwobacon                 0\n",
       "xbacon                   0\n",
       "exit_velocity_avg        0\n",
       "launch_angle_avg         0\n",
       "barrel_batted_rate       0\n",
       "hard_hit_percent         0\n",
       "avg_best_speed           0\n",
       "avg_hyper_speed          0\n",
       "z_swing_percent          0\n",
       "z_swing_miss_percent     0\n",
       "oz_swing_percent         0\n",
       "oz_swing_miss_percent    0\n",
       "iz_contact_percent       0\n",
       "edge_percent             0\n",
       "whiff_percent            0\n",
       "swing_percent            0\n",
       "pull_percent             0\n",
       "straightaway_percent     0\n",
       "opposite_percent         0\n",
       "f_strike_percent         0\n",
       "flyballs_percent         0\n",
       "linedrives_percent       0\n",
       "sprint_speed             0\n",
       "Fpoints_G_2              0\n",
       "Fpoints_G_3              0\n",
       "Fpoints_G_1              0\n",
       "Fpoints_G_4              0\n",
       "Fpoints_G_5              0\n",
       "Fpoints_G_6              0\n",
       "league_avg_Fpoints       0\n",
       "dtype: int64"
      ]
     },
     "execution_count": 136,
     "metadata": {},
     "output_type": "execute_result"
    }
   ],
   "source": [
    "full_data.isna().sum()"
   ]
  },
  {
   "cell_type": "code",
   "execution_count": 137,
   "id": "b916be4a-c84b-4f59-ba41-58aa992fa25e",
   "metadata": {},
   "outputs": [],
   "source": [
    "X = full_data.drop(columns = ['Name', 'year', 'Fpoints_G'])\n",
    "y = full_data['Fpoints_G']\n",
    "X_train, X_test, y_train, y_test = train_test_split(X, y, train_size = 0.7, random_state = 123)\n",
    "X_train, X_val, y_train, y_val = train_test_split(X_train, y_train, train_size = 0.7, random_state = 123)\n",
    "num_feats = X.columns.tolist()\n",
    "ct = make_column_transformer(\n",
    "    (StandardScaler(), num_feats))\n",
    "ct\n",
    "\n",
    "transformed_x_train = ct.fit_transform(X_train)\n",
    "transformed_x_val = ct.transform(X_val)\n",
    "transformed_x_test = ct.transform(X_test)\n",
    "\n"
   ]
  },
  {
   "cell_type": "code",
   "execution_count": 138,
   "id": "33b623dd-b681-4932-bdc5-c23999dbf1a7",
   "metadata": {},
   "outputs": [
    {
     "data": {
      "text/plain": [
       "31"
      ]
     },
     "execution_count": 138,
     "metadata": {},
     "output_type": "execute_result"
    }
   ],
   "source": [
    "colnames = num_feats\n",
    "X_train_transformed = pd.DataFrame(transformed_x_train, columns = colnames)\n",
    "X_val_transformed = pd.DataFrame(transformed_x_val, columns = colnames)\n",
    "X_test_transformed = pd.DataFrame(transformed_x_test, columns = colnames)\n",
    "n_feats = len(colnames)\n",
    "n_feats"
   ]
  },
  {
   "cell_type": "code",
   "execution_count": 139,
   "id": "04672eda-ec99-450a-9d0f-6535e25a0c70",
   "metadata": {},
   "outputs": [],
   "source": [
    "# num_pca = 15\n",
    "# pca = PCA(n_components = num_pca)\n",
    "# X_train_transformed1 = pca.fit_transform(X_train_transformed)\n",
    "# X_val_transformed1 = pca.transform(X_val_transformed)\n",
    "# X_test_transformed1 = pca.transform(X_test_transformed)"
   ]
  },
  {
   "cell_type": "code",
   "execution_count": 141,
   "id": "54c6b92e-7ebe-4a00-a8e6-2f5159d28cf7",
   "metadata": {},
   "outputs": [
    {
     "name": "stdout",
     "output_type": "stream",
     "text": [
      "Trial 90 Complete [00h 00m 04s]\n",
      "val_mean_squared_error: 0.4600257873535156\n",
      "\n",
      "Best val_mean_squared_error So Far: 0.07617422938346863\n",
      "Total elapsed time: 00h 02m 09s\n",
      "INFO:tensorflow:Oracle triggered exit\n"
     ]
    },
    {
     "name": "stderr",
     "output_type": "stream",
     "text": [
      "INFO:tensorflow:Oracle triggered exit\n"
     ]
    },
    {
     "name": "stdout",
     "output_type": "stream",
     "text": [
      "{'num_layers': 4, 'units0': 76, 'activation0': 'sigmoid', 'dropout0': 0.4, 'optimizer': 'adam', 'units1': 46, 'activation1': 'sigmoid', 'dropout1': 0.3, 'units2': 40, 'activation2': 'tanh', 'dropout2': 0.2, 'units3': 64, 'activation3': 'tanh', 'dropout3': 0.0, 'units4': 68, 'activation4': 'sigmoid', 'dropout4': 0.0, 'units5': 60, 'activation5': 'relu', 'dropout5': 0.5, 'units6': 86, 'activation6': 'tanh', 'dropout6': 0.4, 'units7': 82, 'activation7': 'sigmoid', 'dropout7': 0.4, 'tuner/epochs': 40, 'tuner/initial_epoch': 14, 'tuner/bracket': 3, 'tuner/round': 3, 'tuner/trial_id': '0047'}\n",
      "Epoch 1/40\n",
      "29/29 - 1s - loss: 0.1028 - mean_squared_error: 0.1028 - val_loss: 0.0610 - val_mean_squared_error: 0.0610 - 616ms/epoch - 21ms/step\n",
      "Epoch 2/40\n",
      "29/29 - 0s - loss: 0.0915 - mean_squared_error: 0.0915 - val_loss: 0.0606 - val_mean_squared_error: 0.0606 - 52ms/epoch - 2ms/step\n",
      "Epoch 3/40\n",
      "29/29 - 0s - loss: 0.0946 - mean_squared_error: 0.0946 - val_loss: 0.0712 - val_mean_squared_error: 0.0712 - 50ms/epoch - 2ms/step\n",
      "Epoch 4/40\n",
      "29/29 - 0s - loss: 0.0988 - mean_squared_error: 0.0988 - val_loss: 0.0592 - val_mean_squared_error: 0.0592 - 47ms/epoch - 2ms/step\n",
      "Epoch 5/40\n",
      "29/29 - 0s - loss: 0.0938 - mean_squared_error: 0.0938 - val_loss: 0.0599 - val_mean_squared_error: 0.0599 - 47ms/epoch - 2ms/step\n",
      "Epoch 6/40\n",
      "29/29 - 0s - loss: 0.0959 - mean_squared_error: 0.0959 - val_loss: 0.0604 - val_mean_squared_error: 0.0604 - 47ms/epoch - 2ms/step\n",
      "Epoch 7/40\n",
      "29/29 - 0s - loss: 0.0964 - mean_squared_error: 0.0964 - val_loss: 0.0606 - val_mean_squared_error: 0.0606 - 47ms/epoch - 2ms/step\n",
      "Epoch 8/40\n",
      "29/29 - 0s - loss: 0.0963 - mean_squared_error: 0.0963 - val_loss: 0.0588 - val_mean_squared_error: 0.0588 - 46ms/epoch - 2ms/step\n",
      "Epoch 9/40\n",
      "29/29 - 0s - loss: 0.0878 - mean_squared_error: 0.0878 - val_loss: 0.0641 - val_mean_squared_error: 0.0641 - 48ms/epoch - 2ms/step\n",
      "Epoch 10/40\n",
      "29/29 - 0s - loss: 0.0926 - mean_squared_error: 0.0926 - val_loss: 0.0702 - val_mean_squared_error: 0.0702 - 47ms/epoch - 2ms/step\n",
      "Epoch 11/40\n",
      "29/29 - 0s - loss: 0.0884 - mean_squared_error: 0.0884 - val_loss: 0.0684 - val_mean_squared_error: 0.0684 - 48ms/epoch - 2ms/step\n",
      "Epoch 12/40\n",
      "29/29 - 0s - loss: 0.0948 - mean_squared_error: 0.0948 - val_loss: 0.0590 - val_mean_squared_error: 0.0590 - 47ms/epoch - 2ms/step\n",
      "Epoch 13/40\n",
      "29/29 - 0s - loss: 0.0932 - mean_squared_error: 0.0932 - val_loss: 0.0595 - val_mean_squared_error: 0.0595 - 48ms/epoch - 2ms/step\n",
      "Epoch 14/40\n",
      "29/29 - 0s - loss: 0.0919 - mean_squared_error: 0.0919 - val_loss: 0.0600 - val_mean_squared_error: 0.0600 - 53ms/epoch - 2ms/step\n",
      "Epoch 15/40\n",
      "29/29 - 0s - loss: 0.0881 - mean_squared_error: 0.0881 - val_loss: 0.0608 - val_mean_squared_error: 0.0608 - 47ms/epoch - 2ms/step\n",
      "Epoch 16/40\n",
      "29/29 - 0s - loss: 0.0922 - mean_squared_error: 0.0922 - val_loss: 0.0595 - val_mean_squared_error: 0.0595 - 47ms/epoch - 2ms/step\n",
      "Epoch 17/40\n",
      "29/29 - 0s - loss: 0.0873 - mean_squared_error: 0.0873 - val_loss: 0.0599 - val_mean_squared_error: 0.0599 - 47ms/epoch - 2ms/step\n",
      "Epoch 18/40\n",
      "29/29 - 0s - loss: 0.0932 - mean_squared_error: 0.0932 - val_loss: 0.0612 - val_mean_squared_error: 0.0612 - 46ms/epoch - 2ms/step\n"
     ]
    },
    {
     "name": "stderr",
     "output_type": "stream",
     "text": [
      "2024-03-14 18:45:25.957866: I tensorflow/core/common_runtime/executor.cc:1197] [/device:CPU:0] (DEBUG INFO) Executor start aborting (this does not indicate an error and you can ignore this message): INVALID_ARGUMENT: You must feed a value for placeholder tensor 'inputs' with dtype float and shape [?,76]\n",
      "\t [[{{node inputs}}]]\n",
      "2024-03-14 18:45:25.964915: I tensorflow/core/common_runtime/executor.cc:1197] [/device:CPU:0] (DEBUG INFO) Executor start aborting (this does not indicate an error and you can ignore this message): INVALID_ARGUMENT: You must feed a value for placeholder tensor 'inputs' with dtype float and shape [?,46]\n",
      "\t [[{{node inputs}}]]\n",
      "2024-03-14 18:45:25.971893: I tensorflow/core/common_runtime/executor.cc:1197] [/device:CPU:0] (DEBUG INFO) Executor start aborting (this does not indicate an error and you can ignore this message): INVALID_ARGUMENT: You must feed a value for placeholder tensor 'inputs' with dtype float and shape [?,40]\n",
      "\t [[{{node inputs}}]]\n",
      "2024-03-14 18:45:26.078658: I tensorflow/core/common_runtime/executor.cc:1197] [/device:CPU:0] (DEBUG INFO) Executor start aborting (this does not indicate an error and you can ignore this message): INVALID_ARGUMENT: You must feed a value for placeholder tensor 'inputs' with dtype float and shape [?,76]\n",
      "\t [[{{node inputs}}]]\n",
      "2024-03-14 18:45:26.095234: I tensorflow/core/common_runtime/executor.cc:1197] [/device:CPU:0] (DEBUG INFO) Executor start aborting (this does not indicate an error and you can ignore this message): INVALID_ARGUMENT: You must feed a value for placeholder tensor 'inputs' with dtype float and shape [?,46]\n",
      "\t [[{{node inputs}}]]\n",
      "2024-03-14 18:45:26.111800: I tensorflow/core/common_runtime/executor.cc:1197] [/device:CPU:0] (DEBUG INFO) Executor start aborting (this does not indicate an error and you can ignore this message): INVALID_ARGUMENT: You must feed a value for placeholder tensor 'inputs' with dtype float and shape [?,40]\n",
      "\t [[{{node inputs}}]]\n",
      "WARNING:absl:Found untraced functions such as _update_step_xla while saving (showing 1 of 1). These functions will not be directly callable after loading.\n"
     ]
    },
    {
     "name": "stdout",
     "output_type": "stream",
     "text": [
      "INFO:tensorflow:Assets written to: models/lotsfeat_pca_nn/assets\n"
     ]
    },
    {
     "name": "stderr",
     "output_type": "stream",
     "text": [
      "INFO:tensorflow:Assets written to: models/lotsfeat_pca_nn/assets\n"
     ]
    }
   ],
   "source": [
    "def build_model(hp):\n",
    "  model = Sequential()\n",
    "  counter = 0\n",
    "  for i in range(hp.Int('num_layers',min_value=1,max_value=8)):\n",
    "    if counter == 0:\n",
    "      model.add(Dense(hp.Int('units' + str(i), min_value=8, max_value=100,step=4),activation= hp.Choice('activation' + str(i), values=['relu','tanh','sigmoid']),input_dim=num_pca))\n",
    "      model.add(Dropout(hp.Choice('dropout' + str(i), values=[0.0,0.1,0.2,0.3,0.4,0.5,0.6])))\n",
    "    else:\n",
    "      model.add(Dense(hp.Int('units' + str(i), min_value=8, max_value=100,step=2),activation= hp.Choice('activation' + str(i), values=['relu','tanh','sigmoid'])))\n",
    "      model.add(Dropout(hp.Choice('dropout' + str(i), values=[0.0,0.1,0.2,0.3,0.4,0.5,0.6])))\n",
    "    counter+=1\n",
    "  model.add(Dense(1,activation='linear'))\n",
    "  model.compile(optimizer=hp.Choice('optimizer',values=['adagrad','adam','sgd']),\n",
    "                  loss='mse',\n",
    "                  metrics=[MeanSquaredError()])\n",
    "  return model\n",
    "\n",
    "tuner = kt.Hyperband(build_model, objective = 'val_mean_squared_error', max_epochs = 40, overwrite = True)\n",
    "tuner.search(X_train_transformed1, y_train, epochs = 40, validation_data = (X_val_transformed1, y_val))\n",
    "print(tuner.get_best_hyperparameters()[0].values)\n",
    "model = tuner.get_best_models()[0]\n",
    "es = EarlyStopping(monitor = 'val_loss', patience = 10)\n",
    "model.fit(X_train_transformed1, y_train, epochs = 40, verbose = 2, validation_split = 0.3, callbacks = [es])\n",
    "model.save(\"models/lotsfeat_pca_nn\")"
   ]
  },
  {
   "cell_type": "code",
   "execution_count": 53,
   "id": "e7ae73e9-7ee7-432d-8dbb-15f2b8be85d3",
   "metadata": {},
   "outputs": [
    {
     "name": "stdout",
     "output_type": "stream",
     "text": [
      "25/25 [==============================] - 0s 665us/step\n"
     ]
    },
    {
     "data": {
      "text/plain": [
       "0.27835274316007974"
      ]
     },
     "execution_count": 53,
     "metadata": {},
     "output_type": "execute_result"
    }
   ],
   "source": [
    "# Including all features + decay + engineered features (0.1 decay)\n",
    "model = keras.models.load_model(\"models/decay_featureeng_nn\")\n",
    "preds = model.predict(X_test_transformed1)\n",
    "np.sqrt(mean_squared_error(y_test, preds))"
   ]
  },
  {
   "cell_type": "code",
   "execution_count": 62,
   "id": "5064ea44-36f3-48ad-87f6-1f22f9c3a373",
   "metadata": {},
   "outputs": [
    {
     "name": "stdout",
     "output_type": "stream",
     "text": [
      "25/25 [==============================] - 0s 619us/step\n"
     ]
    },
    {
     "data": {
      "text/plain": [
       "0.5810911541239634"
      ]
     },
     "execution_count": 62,
     "metadata": {},
     "output_type": "execute_result"
    }
   ],
   "source": [
    "# No engineered features but all decay + features (0.1)\n",
    "model = keras.models.load_model(\"models/decay_nn\")\n",
    "preds = model.predict(X_test_transformed1)\n",
    "np.sqrt(mean_squared_error(y_test, preds))"
   ]
  },
  {
   "cell_type": "code",
   "execution_count": 71,
   "id": "b1b167fc-f14e-48d5-aef7-026163764a62",
   "metadata": {},
   "outputs": [
    {
     "name": "stdout",
     "output_type": "stream",
     "text": [
      "25/25 [==============================] - 0s 495us/step\n"
     ]
    },
    {
     "data": {
      "text/plain": [
       "0.5822079175088242"
      ]
     },
     "execution_count": 71,
     "metadata": {},
     "output_type": "execute_result"
    }
   ],
   "source": [
    "# Original data.. no engineered features or decay. \n",
    "model = keras.models.load_model(\"models/og_data_nn\")\n",
    "preds = model.predict(X_test_transformed1)\n",
    "np.sqrt(mean_squared_error(y_test, preds))"
   ]
  },
  {
   "cell_type": "code",
   "execution_count": 80,
   "id": "70559006-bf50-4fb9-af08-e0201ba2b3eb",
   "metadata": {},
   "outputs": [
    {
     "name": "stdout",
     "output_type": "stream",
     "text": [
      "25/25 [==============================] - 0s 479us/step\n"
     ]
    },
    {
     "data": {
      "text/plain": [
       "0.27316737917681927"
      ]
     },
     "execution_count": 80,
     "metadata": {},
     "output_type": "execute_result"
    }
   ],
   "source": [
    "# Engineered features but no decay\n",
    "model = keras.models.load_model(\"models/eng_feat_nn\")\n",
    "preds = model.predict(X_test_transformed1)\n",
    "np.sqrt(mean_squared_error(y_test, preds))"
   ]
  },
  {
   "cell_type": "code",
   "execution_count": 89,
   "id": "c1aac14f-2dc5-4674-987c-01700b7b9283",
   "metadata": {},
   "outputs": [
    {
     "name": "stdout",
     "output_type": "stream",
     "text": [
      "25/25 [==============================] - 0s 512us/step\n"
     ]
    },
    {
     "data": {
      "text/plain": [
       "0.5678935030433923"
      ]
     },
     "execution_count": 89,
     "metadata": {},
     "output_type": "execute_result"
    }
   ],
   "source": [
    "# Two rolling averages + 0.5 decay vs 0.1\n",
    "model = keras.models.load_model(\"models/0.5decay_newfeat_nn\")\n",
    "preds = model.predict(X_test_transformed1)\n",
    "np.sqrt(mean_squared_error(y_test, preds))"
   ]
  },
  {
   "cell_type": "code",
   "execution_count": 107,
   "id": "7a6e22ca-c388-4644-be1b-a58155e5b2a0",
   "metadata": {},
   "outputs": [
    {
     "name": "stdout",
     "output_type": "stream",
     "text": [
      "25/25 [==============================] - 0s 554us/step\n"
     ]
    },
    {
     "data": {
      "text/plain": [
       "0.26121842330552364"
      ]
     },
     "execution_count": 107,
     "metadata": {},
     "output_type": "execute_result"
    }
   ],
   "source": [
    "# Two rolling averages + 0.005 decay \n",
    "model = keras.models.load_model(\"models/0.005decay_newfeat_nn\")\n",
    "preds = model.predict(X_test_transformed1)\n",
    "np.sqrt(mean_squared_error(y_test, preds))"
   ]
  },
  {
   "cell_type": "code",
   "execution_count": 114,
   "id": "58940ca8-52e1-4700-a8f0-cb3a0525a5e0",
   "metadata": {},
   "outputs": [
    {
     "name": "stdout",
     "output_type": "stream",
     "text": [
      "25/25 [==============================] - 0s 519us/step\n"
     ]
    },
    {
     "data": {
      "text/plain": [
       "0.24974797036071666"
      ]
     },
     "execution_count": 114,
     "metadata": {},
     "output_type": "execute_result"
    }
   ],
   "source": [
    "# rolling averages up to 6 years, no decay\n",
    "model = keras.models.load_model(\"models/lotsfeat_nn\")\n",
    "preds = model.predict(X_test_transformed1)\n",
    "np.sqrt(mean_squared_error(y_test, preds))"
   ]
  },
  {
   "cell_type": "code",
   "execution_count": 142,
   "id": "be957e2b-2596-4b2f-93cb-57f7697bc6e7",
   "metadata": {},
   "outputs": [
    {
     "name": "stdout",
     "output_type": "stream",
     "text": [
      "25/25 [==============================] - 0s 536us/step\n"
     ]
    },
    {
     "data": {
      "text/plain": [
       "0.2555150658183186"
      ]
     },
     "execution_count": 142,
     "metadata": {},
     "output_type": "execute_result"
    }
   ],
   "source": [
    "# same rolling averages w/ PCA reducing to 15 dimensions\n",
    "model = keras.models.load_model(\"models/lotsfeat_pca_nn\")\n",
    "preds = model.predict(X_test_transformed1)\n",
    "np.sqrt(mean_squared_error(y_test, preds))"
   ]
  },
  {
   "cell_type": "markdown",
   "id": "87308a5d-5f23-486c-a3b3-cc36b2ebac80",
   "metadata": {},
   "source": [
    "For this section we decide on the model with 6 rolling averages, no decay or pca. "
   ]
  },
  {
   "cell_type": "code",
   "execution_count": null,
   "id": "a7a4d57d-5910-4652-aebd-894d208db38e",
   "metadata": {},
   "outputs": [],
   "source": []
  }
 ],
 "metadata": {
  "kernelspec": {
   "display_name": "Python 3 (ipykernel)",
   "language": "python",
   "name": "python3"
  },
  "language_info": {
   "codemirror_mode": {
    "name": "ipython",
    "version": 3
   },
   "file_extension": ".py",
   "mimetype": "text/x-python",
   "name": "python",
   "nbconvert_exporter": "python",
   "pygments_lexer": "ipython3",
   "version": "3.11.4"
  }
 },
 "nbformat": 4,
 "nbformat_minor": 5
}
